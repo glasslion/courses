{
 "cells": [
  {
   "cell_type": "code",
   "execution_count": 1,
   "metadata": {
    "collapsed": true,
    "nbpresent": {
     "id": "e17d6190-674f-4e3c-bdcd-4322d0e1766d"
    }
   },
   "outputs": [],
   "source": [
    "%matplotlib inline"
   ]
  },
  {
   "cell_type": "code",
   "execution_count": 2,
   "metadata": {
    "collapsed": true,
    "nbpresent": {
     "id": "32483feb-ecfd-40f9-b611-6e0d50a30651"
    }
   },
   "outputs": [],
   "source": [
    "DATA_HOME_DIR = \"data/dogscats\"\n",
    "\n",
    "path = DATA_HOME_DIR + '/' #'/sample/'\n",
    "# path = DATA_HOME_DIR + '/sample/'\n",
    "\n",
    "test_path = DATA_HOME_DIR + '/test1/' #We use all the test data\n",
    "results_path=DATA_HOME_DIR + '/results/'\n",
    "train_path=path + '/train/'\n",
    "valid_path=path + '/valid/'\n"
   ]
  },
  {
   "cell_type": "code",
   "execution_count": 3,
   "metadata": {
    "collapsed": true,
    "nbpresent": {
     "id": "39aaba09-496b-434e-9a7c-65334f719bc1"
    }
   },
   "outputs": [],
   "source": [
    "from __future__ import division,print_function\n",
    "\n",
    "import os, json\n",
    "from glob import glob\n",
    "import numpy as np\n",
    "np.set_printoptions(precision=4, linewidth=100)\n",
    "from matplotlib import pyplot as plt"
   ]
  },
  {
   "cell_type": "code",
   "execution_count": 4,
   "metadata": {
    "nbpresent": {
     "id": "475c0d5a-25d2-46d1-9555-ca73ff91a1d9"
    }
   },
   "outputs": [
    {
     "name": "stderr",
     "output_type": "stream",
     "text": [
      "Using Theano backend.\n"
     ]
    }
   ],
   "source": [
    "from importlib import reload\n",
    "import utils; reload(utils)\n",
    "from utils import plots"
   ]
  },
  {
   "cell_type": "code",
   "execution_count": 5,
   "metadata": {
    "collapsed": true,
    "nbpresent": {
     "id": "1f213eec-6531-435e-b686-f840acecaf16"
    }
   },
   "outputs": [],
   "source": [
    "from vgg16 import Vgg16\n",
    "batch_size =16\n",
    "vgg = Vgg16()"
   ]
  },
  {
   "cell_type": "code",
   "execution_count": 6,
   "metadata": {
    "nbpresent": {
     "id": "f35b0e0b-79d8-425a-92e3-6aca98bff960"
    }
   },
   "outputs": [
    {
     "name": "stdout",
     "output_type": "stream",
     "text": [
      "Found 23000 images belonging to 2 classes.\n",
      "Found 2000 images belonging to 2 classes.\n"
     ]
    }
   ],
   "source": [
    "batches = vgg.get_batches(path+'train', batch_size=batch_size)\n",
    "val_batches = vgg.get_batches(path+'valid', batch_size=batch_size*2)"
   ]
  },
  {
   "cell_type": "code",
   "execution_count": 7,
   "metadata": {
    "collapsed": true,
    "nbpresent": {
     "id": "4875871d-4c40-4132-b6c7-a578d047c6fb"
    }
   },
   "outputs": [],
   "source": [
    "vgg.finetune(batches)"
   ]
  },
  {
   "cell_type": "code",
   "execution_count": 8,
   "metadata": {
    "collapsed": true,
    "nbpresent": {
     "id": "66d2eedc-f5d9-40d7-8218-a25025f405e4"
    }
   },
   "outputs": [],
   "source": [
    "USE_SAVED_MODEL = True"
   ]
  },
  {
   "cell_type": "code",
   "execution_count": 9,
   "metadata": {
    "collapsed": true,
    "nbpresent": {
     "id": "8c5057ec-1b13-4761-a521-b395d5dbf720"
    }
   },
   "outputs": [],
   "source": [
    "no_of_epochs = 10\n",
    "latest_weights_filename = None\n",
    "if not USE_SAVED_MODEL:\n",
    "    for epoch in range(no_of_epochs):\n",
    "        print(\"Running epoch: %d\" % epoch)\n",
    "        vgg.fit(batches, val_batches, nb_epoch=1)\n",
    "        latest_weights_filename = 'ft%d.h5' % epoch\n",
    "        vgg.model.save_weights(results_path+latest_weights_filename)"
   ]
  },
  {
   "cell_type": "code",
   "execution_count": 10,
   "metadata": {
    "collapsed": true,
    "nbpresent": {
     "id": "4f32889e-a721-4c46-ac4a-6a7ddfe8d046"
    }
   },
   "outputs": [],
   "source": [
    "if USE_SAVED_MODEL:\n",
    "    vgg.model.load_weights(results_path+'ft7.h5')"
   ]
  },
  {
   "cell_type": "code",
   "execution_count": 11,
   "metadata": {
    "nbpresent": {
     "id": "17d4f736-558c-4114-b7b6-6888a216fabe"
    }
   },
   "outputs": [
    {
     "name": "stdout",
     "output_type": "stream",
     "text": [
      "Found 12500 images belonging to 1 classes.\n"
     ]
    }
   ],
   "source": [
    "batches, preds = vgg.test(path+'test1', batch_size = batch_size*2)"
   ]
  },
  {
   "cell_type": "code",
   "execution_count": 18,
   "metadata": {
    "collapsed": true,
    "nbpresent": {
     "id": "18322f7e-3afe-4b92-a2dc-3f9d0ab56d5e"
    }
   },
   "outputs": [],
   "source": [
    "import pandas as pd\n",
    "import numpy as np"
   ]
  },
  {
   "cell_type": "code",
   "execution_count": 19,
   "metadata": {
    "collapsed": true,
    "nbpresent": {
     "id": "0f2918ee-0725-415e-b4c7-e43959399bbd"
    }
   },
   "outputs": [],
   "source": [
    "df=pd.DataFrame(preds, columns=[\"isCat\",\"isDog\"])\n",
    "df['filename'] = batches.filenames\n",
    "df['id'] = df['filename'].apply(lambda x: int(x.replace('unknow/', '').replace('.jpg', '')))\n",
    "df['label'] = np.clip(df['isDog'], 0.05, 0.95)\n",
    "df = df.set_index(['id'])\n",
    "df = df.sort_index()"
   ]
  },
  {
   "cell_type": "code",
   "execution_count": 21,
   "metadata": {
    "collapsed": true,
    "nbpresent": {
     "id": "71b8dae3-f144-4c3a-a83b-e68d6a4dc16d"
    }
   },
   "outputs": [],
   "source": [
    "df.to_csv('catvsdog_sub.csv', columns=['label'])"
   ]
  }
 ],
 "metadata": {
  "kernelspec": {
   "display_name": "Python [default]",
   "language": "python",
   "name": "python3"
  },
  "language_info": {
   "codemirror_mode": {
    "name": "ipython",
    "version": 3
   },
   "file_extension": ".py",
   "mimetype": "text/x-python",
   "name": "python",
   "nbconvert_exporter": "python",
   "pygments_lexer": "ipython3",
   "version": "3.6.3"
  }
 },
 "nbformat": 4,
 "nbformat_minor": 2
}
